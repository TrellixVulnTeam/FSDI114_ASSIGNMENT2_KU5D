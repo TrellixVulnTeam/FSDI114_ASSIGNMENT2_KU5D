{
 "cells": [
  {
   "cell_type": "code",
   "execution_count": 1,
   "id": "81b6e91e",
   "metadata": {},
   "outputs": [],
   "source": [
    "#Leo's\n",
    "\n",
    "# FIFO is used for queues; first in first out.(analogous with tasks; first come first serve)\n",
    "# LIFO is used for stacks; Last in first out. (anal)\n",
    "#class Queue2Stacks:\n",
    "#    def __init__(self):\n",
    "#        # Two Stacks\n",
    "#        self.stack1 = []\n",
    "#        self.stack2 = []\n",
    "#    def enqueue(self, element):\n",
    "#        self.stack1.append(element)\n",
    "#        self.stack1.pop()\n",
    "#        pass\n",
    "#    def dequeue(SELF):\n",
    "#        # FILL OUT CODE HERE\n",
    "#        pass\n",
    "#    \n",
    "#def test():\n",
    "#    \"\"\"This should print: 0. 1, 2, 3, 4, 5,...\"\"\"\n",
    "    \n",
    "    \n",
    "#Paola's   \n",
    "\n",
    "# FIFO is used for queues; first in first out.(analogous with tasks; first come first serve)\n",
    "# LIFO is used for stacks; Last in first out. (anal)\n",
    "class Queue2Stacks:\n",
    "    def __init__(self):\n",
    "        # Two Stacks\n",
    "        self.stack1 = []\n",
    "        self.stack2 = []\n",
    "        \n",
    "    def enqueue(self, element): # Insert data into stack1\n",
    "            self.stack1.append(element)\n",
    "            \n",
    "    def dequeue(self): # Pop data from stack1 onto stack2\n",
    "        while self.stack1:\n",
    "            self.stack2.append(self.stack1.pop())\n",
    "        return self.stack2.pop()\n",
    "    "
   ]
  },
  {
   "cell_type": "code",
   "execution_count": 2,
   "id": "91f18621",
   "metadata": {},
   "outputs": [],
   "source": [
    "def test():\n",
    "    # this should prinf 0,1,2.3.4\n",
    "    q = Queue2Stacks()\n",
    "    for i in range(5):\n",
    "        q.enqueue(i)\n",
    "    for i in range(5):\n",
    "        print(q.dequeue())   "
   ]
  },
  {
   "cell_type": "code",
   "execution_count": 3,
   "id": "f8a00896",
   "metadata": {},
   "outputs": [
    {
     "name": "stdout",
     "output_type": "stream",
     "text": [
      "0\n",
      "1\n",
      "2\n",
      "3\n",
      "4\n"
     ]
    }
   ],
   "source": [
    "test()"
   ]
  },
  {
   "cell_type": "code",
   "execution_count": 5,
   "id": "7727a52f",
   "metadata": {},
   "outputs": [],
   "source": [
    "def fact(n):\n",
    "    if n == 0:\n",
    "        return 1\n",
    "    return n*fact(n-1)"
   ]
  },
  {
   "cell_type": "code",
   "execution_count": 6,
   "id": "79c64f7b",
   "metadata": {},
   "outputs": [
    {
     "data": {
      "text/plain": [
       "120"
      ]
     },
     "execution_count": 6,
     "metadata": {},
     "output_type": "execute_result"
    }
   ],
   "source": [
    "fact(5)"
   ]
  },
  {
   "cell_type": "code",
   "execution_count": 7,
   "id": "f3a45a4d",
   "metadata": {},
   "outputs": [
    {
     "data": {
      "text/plain": [
       "3628800"
      ]
     },
     "execution_count": 7,
     "metadata": {},
     "output_type": "execute_result"
    }
   ],
   "source": [
    "fact(10)"
   ]
  },
  {
   "cell_type": "code",
   "execution_count": 8,
   "id": "82abaa23",
   "metadata": {},
   "outputs": [],
   "source": [
    "def fib(n):\n",
    "    if n < 2: # base case\n",
    "        return n\n",
    "    return fib(n-1) + fib(n-2)"
   ]
  },
  {
   "cell_type": "code",
   "execution_count": 10,
   "id": "1ab6d00a",
   "metadata": {},
   "outputs": [
    {
     "data": {
      "text/plain": [
       "8"
      ]
     },
     "execution_count": 10,
     "metadata": {},
     "output_type": "execute_result"
    }
   ],
   "source": [
    "fib(6)"
   ]
  },
  {
   "cell_type": "code",
   "execution_count": 11,
   "id": "5d140bb5",
   "metadata": {},
   "outputs": [
    {
     "data": {
      "text/plain": [
       "21"
      ]
     },
     "execution_count": 11,
     "metadata": {},
     "output_type": "execute_result"
    }
   ],
   "source": [
    "fib(8)"
   ]
  },
  {
   "cell_type": "code",
   "execution_count": 12,
   "id": "349cb80d",
   "metadata": {},
   "outputs": [
    {
     "data": {
      "text/plain": [
       "34"
      ]
     },
     "execution_count": 12,
     "metadata": {},
     "output_type": "execute_result"
    }
   ],
   "source": [
    "fib(9)"
   ]
  },
  {
   "cell_type": "code",
   "execution_count": 13,
   "id": "214e3471",
   "metadata": {},
   "outputs": [],
   "source": [
    "from functools import lru_cache\n",
    "\n",
    "@lru_cache\n",
    "def fib(n):\n",
    "    if n < 2: # base case\n",
    "        return n\n",
    "    return fib(n-1) + fib(n-2)\n"
   ]
  },
  {
   "cell_type": "code",
   "execution_count": 14,
   "id": "e2cb8ae5",
   "metadata": {},
   "outputs": [
    {
     "data": {
      "text/plain": [
       "12586269025"
      ]
     },
     "execution_count": 14,
     "metadata": {},
     "output_type": "execute_result"
    }
   ],
   "source": [
    "fib(50\n",
    ")"
   ]
  },
  {
   "cell_type": "code",
   "execution_count": 15,
   "id": "5d8be2c6",
   "metadata": {},
   "outputs": [],
   "source": [
    "class Node:\n",
    "    def __init__(self, data):\n",
    "        self.data = data\n",
    "        self.next = None"
   ]
  },
  {
   "cell_type": "code",
   "execution_count": 23,
   "id": "36110a95",
   "metadata": {},
   "outputs": [
    {
     "name": "stdout",
     "output_type": "stream",
     "text": [
      "1\n",
      "2\n",
      "3\n",
      "4\n",
      "5\n"
     ]
    }
   ],
   "source": [
    "mylist = [1, 2, 3, 4, 5]\n",
    "\n",
    "head = None\n",
    "\n",
    "for number in mylist:\n",
    "    if head == None:\n",
    "        head = Node(number)\n",
    "        continue\n",
    "    current = head\n",
    "    while current.next != None:\n",
    "        current = current.next\n",
    "    current.next = Node(number)\n",
    "        \n",
    "current = head\n",
    "while current != None:\n",
    "    print(current.data)\n",
    "    current = current.next"
   ]
  },
  {
   "cell_type": "code",
   "execution_count": null,
   "id": "8f564755",
   "metadata": {},
   "outputs": [],
   "source": []
  }
 ],
 "metadata": {
  "kernelspec": {
   "display_name": "Python 3 (ipykernel)",
   "language": "python",
   "name": "python3"
  },
  "language_info": {
   "codemirror_mode": {
    "name": "ipython",
    "version": 3
   },
   "file_extension": ".py",
   "mimetype": "text/x-python",
   "name": "python",
   "nbconvert_exporter": "python",
   "pygments_lexer": "ipython3",
   "version": "3.9.6"
  }
 },
 "nbformat": 4,
 "nbformat_minor": 5
}
